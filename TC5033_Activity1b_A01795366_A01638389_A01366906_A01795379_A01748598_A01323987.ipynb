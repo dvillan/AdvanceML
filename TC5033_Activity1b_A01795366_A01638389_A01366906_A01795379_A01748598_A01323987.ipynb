{
  "cells": [
    {
      "cell_type": "markdown",
      "source": [
        "### **Modality:** Collaborative\n",
        "### **Members and ID:**\n",
        "###- Mario Ramón Silva Rodríguez - A01795366\n",
        "###- David Emmanuel Villanueva Martínez - A01638389\n",
        "###- Divad Alejandro Shriqui - A01366906\n",
        "###- Jorge Trujillo Peña - A01795379\n",
        "###- Amiel Joel Rosete Islas - A01748598\n",
        "###- Óscar Antonio Suárez Valdez - A01323987"
      ],
      "metadata": {
        "id": "1E0MANiNXAfK"
      }
    },
    {
      "cell_type": "markdown",
      "metadata": {
        "id": "k7piPNEsuMKL"
      },
      "source": [
        "# TC 5033\n",
        "## Deep Learning\n",
        "## Fully Connected Deep Neural Networks\n",
        "\n",
        "#### Activity 1b: Implementing a Fully Connected Network for Kaggle ASL Dataset\n",
        "\n",
        "- Objective\n",
        "\n",
        "The aim of this part of the activity is to apply your understanding of Fully Connected Networks by implementing a multilayer network for the [Kaggle ASL (American Sign Language) dataset](https://www.kaggle.com/datasets/grassknoted/asl-alphabet). While you have been provided with a complete solution for a Fully Connected Network using Numpy for the MNIST dataset, you are encouraged to try to come up with the solution.\n",
        "\n",
        "- Instructions\n",
        "\n",
        "    This activity requires submission in teams of 3 or 4 members. Submissions from smaller or larger teams will not be accepted unless prior approval has been granted (only due to exceptional circumstances). While teamwork is encouraged, each member is expected to contribute individually to the assignment. The final submission should feature the best arguments and solutions from each team member. Only one person per team needs to submit the completed work, but it is imperative that the names of all team members are listed in a Markdown cell at the very beginning of the notebook (either the first or second cell). Failure to include all team member names will result in the grade being awarded solely to the individual who submitted the assignment, with zero points given to other team members (no exceptions will be made to this rule).\n",
        "\n",
        "    Load and Preprocess Data: You are provided a starter code to load the data. Be sure to understand the code.\n",
        "\n",
        "    Review MNIST Notebook (Optional): Before diving into this activity, you have the option to revisit the MNIST example to refresh your understanding of how to build a Fully Connected Network using Numpy.\n",
        "\n",
        "    Start Fresh: Although you can refer to the MNIST solution at any point, try to implement the network for the ASL dataset on your own. This will reinforce your learning and understanding of the architecture and mathematics involved.\n",
        "\n",
        "    Implement Forward and Backward Pass: Write the code to perform the forward and backward passes, keeping in mind the specific challenges and characteristics of the ASL dataset.\n",
        "    \n",
        "     Design the Network: Create the architecture of the Fully Connected Network tailored for the ASL dataset. Choose the number of hidden layers, neurons, and hyperparameters judiciously.\n",
        "\n",
        "    Train the Model: Execute the training loop, ensuring to track performance metrics such as loss and accuracy.\n",
        "\n",
        "    Analyze and Document: Use Markdown cells to document in detail the choices you made in terms of architecture and hyperparameters, you may use figures, equations, etc to aid in your explanations. Include any metrics that help justify these choices and discuss the model's performance.  \n",
        "\n",
        "- Evaluation Criteria\n",
        "\n",
        "    - Code Readability and Comments\n",
        "    - Appropriateness of chosen architecture and hyperparameters for the ASL dataset\n",
        "    - Performance of the model on the ASL dataset (at least 70% acc)\n",
        "    - Quality of Markdown documentation\n",
        "\n",
        "- Submission\n",
        "\n",
        "Submit this Jupyter Notebook in canvas with your complete solution, ensuring your code is well-commented and includes Markdown cells that explain your design choices, results, and any challenges you encountered.\n"
      ]
    },
    {
      "cell_type": "code",
      "execution_count": 139,
      "metadata": {
        "colab": {
          "base_uri": "https://localhost:8080/"
        },
        "id": "c1VwDslTuMKR",
        "outputId": "3d7764da-8dd9-496f-8869-6a1c8cb14cc7"
      },
      "outputs": [
        {
          "output_type": "stream",
          "name": "stdout",
          "text": [
            "The autoreload extension is already loaded. To reload it, use:\n",
            "  %reload_ext autoreload\n"
          ]
        }
      ],
      "source": [
        "import numpy as np\n",
        "import string\n",
        "import pandas as pd\n",
        "import matplotlib.pyplot as plt\n",
        "import cv2 as cv\n",
        "import os\n",
        "\n",
        "%load_ext autoreload\n",
        "%autoreload 2\n",
        "#################################\n",
        "%matplotlib inline\n",
        "from sklearn.model_selection import train_test_split\n",
        "\n",
        "# The libraries are defined"
      ]
    },
    {
      "cell_type": "code",
      "source": [
        "#Google Drive Connection\n",
        "from google.colab import drive\n",
        "drive.mount('/content/drive')"
      ],
      "metadata": {
        "colab": {
          "base_uri": "https://localhost:8080/"
        },
        "id": "dyZD0myjvU_n",
        "outputId": "79d12364-cede-4856-a0ef-3ddb41d7f666"
      },
      "execution_count": 140,
      "outputs": [
        {
          "output_type": "stream",
          "name": "stdout",
          "text": [
            "Drive already mounted at /content/drive; to attempt to forcibly remount, call drive.mount(\"/content/drive\", force_remount=True).\n"
          ]
        }
      ]
    },
    {
      "cell_type": "code",
      "execution_count": 141,
      "metadata": {
        "id": "Rx0MoiTKuMKT"
      },
      "outputs": [],
      "source": [
        "#The path of the csv documents is assigned\n",
        "DATA_PATH = '/content/drive/MyDrive/Colab Notebooks/Adv. Methods ML/Tarea 1b'\n",
        "train_df = pd.read_csv(os.path.join(DATA_PATH, 'sign_mnist_train.csv'))\n",
        "valid_df = pd.read_csv(os.path.join(DATA_PATH, 'sign_mnist_valid.csv'))"
      ]
    },
    {
      "cell_type": "code",
      "execution_count": 142,
      "metadata": {
        "colab": {
          "base_uri": "https://localhost:8080/",
          "height": 392
        },
        "id": "1E0vnoSAuMKT",
        "outputId": "f69dbe95-a725-4997-ed5a-81f8ecef01bd"
      },
      "outputs": [
        {
          "output_type": "execute_result",
          "data": {
            "text/plain": [
              "       label  pixel1  pixel2  pixel3  pixel4  pixel5  pixel6  pixel7  pixel8  \\\n",
              "22839     23     133     138     142     145     147     149     150     152   \n",
              "2008      15     137     142     150     156     160     164     168     171   \n",
              "1439       2     140     141     141     140     140     142     141     141   \n",
              "16253     20     179     182     186     190     192     194     197     199   \n",
              "8978       7     224     225     227     227     228     228     228     229   \n",
              "3407      17     156     160     164     168     171     172     174     177   \n",
              "15002      9      91      94      96      98     100     103     106     108   \n",
              "15531      9      87      88      60      81      90      32      26      60   \n",
              "13568     14      39      39      44      60      75      86      99     112   \n",
              "2816      10      94     107     113     118     123     128     131     134   \n",
              "\n",
              "       pixel9  ...  pixel775  pixel776  pixel777  pixel778  pixel779  \\\n",
              "22839     156  ...       129       102       140       187       187   \n",
              "2008      175  ...        74        65        28        31        55   \n",
              "1439      142  ...       186       186       186       185       184   \n",
              "16253     200  ...       243       242       241       240       240   \n",
              "8978      228  ...       210       238       152        81       119   \n",
              "3407      179  ...        98       199       214       213       213   \n",
              "15002     108  ...        92        80        71       154       177   \n",
              "15531      68  ...        73        57        62       152       172   \n",
              "13568     118  ...        88        87        89        89        98   \n",
              "2816      139  ...       171       174       175       175       176   \n",
              "\n",
              "       pixel780  pixel781  pixel782  pixel783  pixel784  \n",
              "22839       187       189       189       189       189  \n",
              "2008         59        36        32        36        26  \n",
              "1439        184       182       181       182       162  \n",
              "16253       241       236       236       229       207  \n",
              "8978         95       107        75       118       226  \n",
              "3407        214       213       213       212       210  \n",
              "15002       172       174       174       172       172  \n",
              "15531       174       176       177       179       181  \n",
              "13568       115       121        96        95        99  \n",
              "2816        177       178       175       197       210  \n",
              "\n",
              "[10 rows x 785 columns]"
            ],
            "text/html": [
              "\n",
              "  <div id=\"df-3774bd7a-507b-46b2-876a-0d89b98b5b5a\" class=\"colab-df-container\">\n",
              "    <div>\n",
              "<style scoped>\n",
              "    .dataframe tbody tr th:only-of-type {\n",
              "        vertical-align: middle;\n",
              "    }\n",
              "\n",
              "    .dataframe tbody tr th {\n",
              "        vertical-align: top;\n",
              "    }\n",
              "\n",
              "    .dataframe thead th {\n",
              "        text-align: right;\n",
              "    }\n",
              "</style>\n",
              "<table border=\"1\" class=\"dataframe\">\n",
              "  <thead>\n",
              "    <tr style=\"text-align: right;\">\n",
              "      <th></th>\n",
              "      <th>label</th>\n",
              "      <th>pixel1</th>\n",
              "      <th>pixel2</th>\n",
              "      <th>pixel3</th>\n",
              "      <th>pixel4</th>\n",
              "      <th>pixel5</th>\n",
              "      <th>pixel6</th>\n",
              "      <th>pixel7</th>\n",
              "      <th>pixel8</th>\n",
              "      <th>pixel9</th>\n",
              "      <th>...</th>\n",
              "      <th>pixel775</th>\n",
              "      <th>pixel776</th>\n",
              "      <th>pixel777</th>\n",
              "      <th>pixel778</th>\n",
              "      <th>pixel779</th>\n",
              "      <th>pixel780</th>\n",
              "      <th>pixel781</th>\n",
              "      <th>pixel782</th>\n",
              "      <th>pixel783</th>\n",
              "      <th>pixel784</th>\n",
              "    </tr>\n",
              "  </thead>\n",
              "  <tbody>\n",
              "    <tr>\n",
              "      <th>22839</th>\n",
              "      <td>23</td>\n",
              "      <td>133</td>\n",
              "      <td>138</td>\n",
              "      <td>142</td>\n",
              "      <td>145</td>\n",
              "      <td>147</td>\n",
              "      <td>149</td>\n",
              "      <td>150</td>\n",
              "      <td>152</td>\n",
              "      <td>156</td>\n",
              "      <td>...</td>\n",
              "      <td>129</td>\n",
              "      <td>102</td>\n",
              "      <td>140</td>\n",
              "      <td>187</td>\n",
              "      <td>187</td>\n",
              "      <td>187</td>\n",
              "      <td>189</td>\n",
              "      <td>189</td>\n",
              "      <td>189</td>\n",
              "      <td>189</td>\n",
              "    </tr>\n",
              "    <tr>\n",
              "      <th>2008</th>\n",
              "      <td>15</td>\n",
              "      <td>137</td>\n",
              "      <td>142</td>\n",
              "      <td>150</td>\n",
              "      <td>156</td>\n",
              "      <td>160</td>\n",
              "      <td>164</td>\n",
              "      <td>168</td>\n",
              "      <td>171</td>\n",
              "      <td>175</td>\n",
              "      <td>...</td>\n",
              "      <td>74</td>\n",
              "      <td>65</td>\n",
              "      <td>28</td>\n",
              "      <td>31</td>\n",
              "      <td>55</td>\n",
              "      <td>59</td>\n",
              "      <td>36</td>\n",
              "      <td>32</td>\n",
              "      <td>36</td>\n",
              "      <td>26</td>\n",
              "    </tr>\n",
              "    <tr>\n",
              "      <th>1439</th>\n",
              "      <td>2</td>\n",
              "      <td>140</td>\n",
              "      <td>141</td>\n",
              "      <td>141</td>\n",
              "      <td>140</td>\n",
              "      <td>140</td>\n",
              "      <td>142</td>\n",
              "      <td>141</td>\n",
              "      <td>141</td>\n",
              "      <td>142</td>\n",
              "      <td>...</td>\n",
              "      <td>186</td>\n",
              "      <td>186</td>\n",
              "      <td>186</td>\n",
              "      <td>185</td>\n",
              "      <td>184</td>\n",
              "      <td>184</td>\n",
              "      <td>182</td>\n",
              "      <td>181</td>\n",
              "      <td>182</td>\n",
              "      <td>162</td>\n",
              "    </tr>\n",
              "    <tr>\n",
              "      <th>16253</th>\n",
              "      <td>20</td>\n",
              "      <td>179</td>\n",
              "      <td>182</td>\n",
              "      <td>186</td>\n",
              "      <td>190</td>\n",
              "      <td>192</td>\n",
              "      <td>194</td>\n",
              "      <td>197</td>\n",
              "      <td>199</td>\n",
              "      <td>200</td>\n",
              "      <td>...</td>\n",
              "      <td>243</td>\n",
              "      <td>242</td>\n",
              "      <td>241</td>\n",
              "      <td>240</td>\n",
              "      <td>240</td>\n",
              "      <td>241</td>\n",
              "      <td>236</td>\n",
              "      <td>236</td>\n",
              "      <td>229</td>\n",
              "      <td>207</td>\n",
              "    </tr>\n",
              "    <tr>\n",
              "      <th>8978</th>\n",
              "      <td>7</td>\n",
              "      <td>224</td>\n",
              "      <td>225</td>\n",
              "      <td>227</td>\n",
              "      <td>227</td>\n",
              "      <td>228</td>\n",
              "      <td>228</td>\n",
              "      <td>228</td>\n",
              "      <td>229</td>\n",
              "      <td>228</td>\n",
              "      <td>...</td>\n",
              "      <td>210</td>\n",
              "      <td>238</td>\n",
              "      <td>152</td>\n",
              "      <td>81</td>\n",
              "      <td>119</td>\n",
              "      <td>95</td>\n",
              "      <td>107</td>\n",
              "      <td>75</td>\n",
              "      <td>118</td>\n",
              "      <td>226</td>\n",
              "    </tr>\n",
              "    <tr>\n",
              "      <th>3407</th>\n",
              "      <td>17</td>\n",
              "      <td>156</td>\n",
              "      <td>160</td>\n",
              "      <td>164</td>\n",
              "      <td>168</td>\n",
              "      <td>171</td>\n",
              "      <td>172</td>\n",
              "      <td>174</td>\n",
              "      <td>177</td>\n",
              "      <td>179</td>\n",
              "      <td>...</td>\n",
              "      <td>98</td>\n",
              "      <td>199</td>\n",
              "      <td>214</td>\n",
              "      <td>213</td>\n",
              "      <td>213</td>\n",
              "      <td>214</td>\n",
              "      <td>213</td>\n",
              "      <td>213</td>\n",
              "      <td>212</td>\n",
              "      <td>210</td>\n",
              "    </tr>\n",
              "    <tr>\n",
              "      <th>15002</th>\n",
              "      <td>9</td>\n",
              "      <td>91</td>\n",
              "      <td>94</td>\n",
              "      <td>96</td>\n",
              "      <td>98</td>\n",
              "      <td>100</td>\n",
              "      <td>103</td>\n",
              "      <td>106</td>\n",
              "      <td>108</td>\n",
              "      <td>108</td>\n",
              "      <td>...</td>\n",
              "      <td>92</td>\n",
              "      <td>80</td>\n",
              "      <td>71</td>\n",
              "      <td>154</td>\n",
              "      <td>177</td>\n",
              "      <td>172</td>\n",
              "      <td>174</td>\n",
              "      <td>174</td>\n",
              "      <td>172</td>\n",
              "      <td>172</td>\n",
              "    </tr>\n",
              "    <tr>\n",
              "      <th>15531</th>\n",
              "      <td>9</td>\n",
              "      <td>87</td>\n",
              "      <td>88</td>\n",
              "      <td>60</td>\n",
              "      <td>81</td>\n",
              "      <td>90</td>\n",
              "      <td>32</td>\n",
              "      <td>26</td>\n",
              "      <td>60</td>\n",
              "      <td>68</td>\n",
              "      <td>...</td>\n",
              "      <td>73</td>\n",
              "      <td>57</td>\n",
              "      <td>62</td>\n",
              "      <td>152</td>\n",
              "      <td>172</td>\n",
              "      <td>174</td>\n",
              "      <td>176</td>\n",
              "      <td>177</td>\n",
              "      <td>179</td>\n",
              "      <td>181</td>\n",
              "    </tr>\n",
              "    <tr>\n",
              "      <th>13568</th>\n",
              "      <td>14</td>\n",
              "      <td>39</td>\n",
              "      <td>39</td>\n",
              "      <td>44</td>\n",
              "      <td>60</td>\n",
              "      <td>75</td>\n",
              "      <td>86</td>\n",
              "      <td>99</td>\n",
              "      <td>112</td>\n",
              "      <td>118</td>\n",
              "      <td>...</td>\n",
              "      <td>88</td>\n",
              "      <td>87</td>\n",
              "      <td>89</td>\n",
              "      <td>89</td>\n",
              "      <td>98</td>\n",
              "      <td>115</td>\n",
              "      <td>121</td>\n",
              "      <td>96</td>\n",
              "      <td>95</td>\n",
              "      <td>99</td>\n",
              "    </tr>\n",
              "    <tr>\n",
              "      <th>2816</th>\n",
              "      <td>10</td>\n",
              "      <td>94</td>\n",
              "      <td>107</td>\n",
              "      <td>113</td>\n",
              "      <td>118</td>\n",
              "      <td>123</td>\n",
              "      <td>128</td>\n",
              "      <td>131</td>\n",
              "      <td>134</td>\n",
              "      <td>139</td>\n",
              "      <td>...</td>\n",
              "      <td>171</td>\n",
              "      <td>174</td>\n",
              "      <td>175</td>\n",
              "      <td>175</td>\n",
              "      <td>176</td>\n",
              "      <td>177</td>\n",
              "      <td>178</td>\n",
              "      <td>175</td>\n",
              "      <td>197</td>\n",
              "      <td>210</td>\n",
              "    </tr>\n",
              "  </tbody>\n",
              "</table>\n",
              "<p>10 rows × 785 columns</p>\n",
              "</div>\n",
              "    <div class=\"colab-df-buttons\">\n",
              "\n",
              "  <div class=\"colab-df-container\">\n",
              "    <button class=\"colab-df-convert\" onclick=\"convertToInteractive('df-3774bd7a-507b-46b2-876a-0d89b98b5b5a')\"\n",
              "            title=\"Convert this dataframe to an interactive table.\"\n",
              "            style=\"display:none;\">\n",
              "\n",
              "  <svg xmlns=\"http://www.w3.org/2000/svg\" height=\"24px\" viewBox=\"0 -960 960 960\">\n",
              "    <path d=\"M120-120v-720h720v720H120Zm60-500h600v-160H180v160Zm220 220h160v-160H400v160Zm0 220h160v-160H400v160ZM180-400h160v-160H180v160Zm440 0h160v-160H620v160ZM180-180h160v-160H180v160Zm440 0h160v-160H620v160Z\"/>\n",
              "  </svg>\n",
              "    </button>\n",
              "\n",
              "  <style>\n",
              "    .colab-df-container {\n",
              "      display:flex;\n",
              "      gap: 12px;\n",
              "    }\n",
              "\n",
              "    .colab-df-convert {\n",
              "      background-color: #E8F0FE;\n",
              "      border: none;\n",
              "      border-radius: 50%;\n",
              "      cursor: pointer;\n",
              "      display: none;\n",
              "      fill: #1967D2;\n",
              "      height: 32px;\n",
              "      padding: 0 0 0 0;\n",
              "      width: 32px;\n",
              "    }\n",
              "\n",
              "    .colab-df-convert:hover {\n",
              "      background-color: #E2EBFA;\n",
              "      box-shadow: 0px 1px 2px rgba(60, 64, 67, 0.3), 0px 1px 3px 1px rgba(60, 64, 67, 0.15);\n",
              "      fill: #174EA6;\n",
              "    }\n",
              "\n",
              "    .colab-df-buttons div {\n",
              "      margin-bottom: 4px;\n",
              "    }\n",
              "\n",
              "    [theme=dark] .colab-df-convert {\n",
              "      background-color: #3B4455;\n",
              "      fill: #D2E3FC;\n",
              "    }\n",
              "\n",
              "    [theme=dark] .colab-df-convert:hover {\n",
              "      background-color: #434B5C;\n",
              "      box-shadow: 0px 1px 3px 1px rgba(0, 0, 0, 0.15);\n",
              "      filter: drop-shadow(0px 1px 2px rgba(0, 0, 0, 0.3));\n",
              "      fill: #FFFFFF;\n",
              "    }\n",
              "  </style>\n",
              "\n",
              "    <script>\n",
              "      const buttonEl =\n",
              "        document.querySelector('#df-3774bd7a-507b-46b2-876a-0d89b98b5b5a button.colab-df-convert');\n",
              "      buttonEl.style.display =\n",
              "        google.colab.kernel.accessAllowed ? 'block' : 'none';\n",
              "\n",
              "      async function convertToInteractive(key) {\n",
              "        const element = document.querySelector('#df-3774bd7a-507b-46b2-876a-0d89b98b5b5a');\n",
              "        const dataTable =\n",
              "          await google.colab.kernel.invokeFunction('convertToInteractive',\n",
              "                                                    [key], {});\n",
              "        if (!dataTable) return;\n",
              "\n",
              "        const docLinkHtml = 'Like what you see? Visit the ' +\n",
              "          '<a target=\"_blank\" href=https://colab.research.google.com/notebooks/data_table.ipynb>data table notebook</a>'\n",
              "          + ' to learn more about interactive tables.';\n",
              "        element.innerHTML = '';\n",
              "        dataTable['output_type'] = 'display_data';\n",
              "        await google.colab.output.renderOutput(dataTable, element);\n",
              "        const docLink = document.createElement('div');\n",
              "        docLink.innerHTML = docLinkHtml;\n",
              "        element.appendChild(docLink);\n",
              "      }\n",
              "    </script>\n",
              "  </div>\n",
              "\n",
              "\n",
              "<div id=\"df-dadd9e6c-dc2b-42bb-90cb-9c75712c91d4\">\n",
              "  <button class=\"colab-df-quickchart\" onclick=\"quickchart('df-dadd9e6c-dc2b-42bb-90cb-9c75712c91d4')\"\n",
              "            title=\"Suggest charts\"\n",
              "            style=\"display:none;\">\n",
              "\n",
              "<svg xmlns=\"http://www.w3.org/2000/svg\" height=\"24px\"viewBox=\"0 0 24 24\"\n",
              "     width=\"24px\">\n",
              "    <g>\n",
              "        <path d=\"M19 3H5c-1.1 0-2 .9-2 2v14c0 1.1.9 2 2 2h14c1.1 0 2-.9 2-2V5c0-1.1-.9-2-2-2zM9 17H7v-7h2v7zm4 0h-2V7h2v10zm4 0h-2v-4h2v4z\"/>\n",
              "    </g>\n",
              "</svg>\n",
              "  </button>\n",
              "\n",
              "<style>\n",
              "  .colab-df-quickchart {\n",
              "      --bg-color: #E8F0FE;\n",
              "      --fill-color: #1967D2;\n",
              "      --hover-bg-color: #E2EBFA;\n",
              "      --hover-fill-color: #174EA6;\n",
              "      --disabled-fill-color: #AAA;\n",
              "      --disabled-bg-color: #DDD;\n",
              "  }\n",
              "\n",
              "  [theme=dark] .colab-df-quickchart {\n",
              "      --bg-color: #3B4455;\n",
              "      --fill-color: #D2E3FC;\n",
              "      --hover-bg-color: #434B5C;\n",
              "      --hover-fill-color: #FFFFFF;\n",
              "      --disabled-bg-color: #3B4455;\n",
              "      --disabled-fill-color: #666;\n",
              "  }\n",
              "\n",
              "  .colab-df-quickchart {\n",
              "    background-color: var(--bg-color);\n",
              "    border: none;\n",
              "    border-radius: 50%;\n",
              "    cursor: pointer;\n",
              "    display: none;\n",
              "    fill: var(--fill-color);\n",
              "    height: 32px;\n",
              "    padding: 0;\n",
              "    width: 32px;\n",
              "  }\n",
              "\n",
              "  .colab-df-quickchart:hover {\n",
              "    background-color: var(--hover-bg-color);\n",
              "    box-shadow: 0 1px 2px rgba(60, 64, 67, 0.3), 0 1px 3px 1px rgba(60, 64, 67, 0.15);\n",
              "    fill: var(--button-hover-fill-color);\n",
              "  }\n",
              "\n",
              "  .colab-df-quickchart-complete:disabled,\n",
              "  .colab-df-quickchart-complete:disabled:hover {\n",
              "    background-color: var(--disabled-bg-color);\n",
              "    fill: var(--disabled-fill-color);\n",
              "    box-shadow: none;\n",
              "  }\n",
              "\n",
              "  .colab-df-spinner {\n",
              "    border: 2px solid var(--fill-color);\n",
              "    border-color: transparent;\n",
              "    border-bottom-color: var(--fill-color);\n",
              "    animation:\n",
              "      spin 1s steps(1) infinite;\n",
              "  }\n",
              "\n",
              "  @keyframes spin {\n",
              "    0% {\n",
              "      border-color: transparent;\n",
              "      border-bottom-color: var(--fill-color);\n",
              "      border-left-color: var(--fill-color);\n",
              "    }\n",
              "    20% {\n",
              "      border-color: transparent;\n",
              "      border-left-color: var(--fill-color);\n",
              "      border-top-color: var(--fill-color);\n",
              "    }\n",
              "    30% {\n",
              "      border-color: transparent;\n",
              "      border-left-color: var(--fill-color);\n",
              "      border-top-color: var(--fill-color);\n",
              "      border-right-color: var(--fill-color);\n",
              "    }\n",
              "    40% {\n",
              "      border-color: transparent;\n",
              "      border-right-color: var(--fill-color);\n",
              "      border-top-color: var(--fill-color);\n",
              "    }\n",
              "    60% {\n",
              "      border-color: transparent;\n",
              "      border-right-color: var(--fill-color);\n",
              "    }\n",
              "    80% {\n",
              "      border-color: transparent;\n",
              "      border-right-color: var(--fill-color);\n",
              "      border-bottom-color: var(--fill-color);\n",
              "    }\n",
              "    90% {\n",
              "      border-color: transparent;\n",
              "      border-bottom-color: var(--fill-color);\n",
              "    }\n",
              "  }\n",
              "</style>\n",
              "\n",
              "  <script>\n",
              "    async function quickchart(key) {\n",
              "      const quickchartButtonEl =\n",
              "        document.querySelector('#' + key + ' button');\n",
              "      quickchartButtonEl.disabled = true;  // To prevent multiple clicks.\n",
              "      quickchartButtonEl.classList.add('colab-df-spinner');\n",
              "      try {\n",
              "        const charts = await google.colab.kernel.invokeFunction(\n",
              "            'suggestCharts', [key], {});\n",
              "      } catch (error) {\n",
              "        console.error('Error during call to suggestCharts:', error);\n",
              "      }\n",
              "      quickchartButtonEl.classList.remove('colab-df-spinner');\n",
              "      quickchartButtonEl.classList.add('colab-df-quickchart-complete');\n",
              "    }\n",
              "    (() => {\n",
              "      let quickchartButtonEl =\n",
              "        document.querySelector('#df-dadd9e6c-dc2b-42bb-90cb-9c75712c91d4 button');\n",
              "      quickchartButtonEl.style.display =\n",
              "        google.colab.kernel.accessAllowed ? 'block' : 'none';\n",
              "    })();\n",
              "  </script>\n",
              "</div>\n",
              "\n",
              "    </div>\n",
              "  </div>\n"
            ],
            "application/vnd.google.colaboratory.intrinsic+json": {
              "type": "dataframe"
            }
          },
          "metadata": {},
          "execution_count": 142
        }
      ],
      "source": [
        "# Randomly select 10 samples from the 'train_df' DataFrame for inspection\n",
        "train_df.sample(10)"
      ]
    },
    {
      "cell_type": "markdown",
      "metadata": {
        "id": "-mJl52nHuMKU"
      },
      "source": [
        "### Importar Images"
      ]
    },
    {
      "cell_type": "code",
      "source": [
        "# Get the unique values from the 'label' column of 'train_df' and sort them\n",
        "array = train_df['label'].unique()\n",
        "sorted(array)"
      ],
      "metadata": {
        "colab": {
          "base_uri": "https://localhost:8080/"
        },
        "id": "dWnLj7Dgx_Z0",
        "outputId": "e3c7afd1-a0d6-4401-dea6-a75b1de42e78"
      },
      "execution_count": 143,
      "outputs": [
        {
          "output_type": "execute_result",
          "data": {
            "text/plain": [
              "[0,\n",
              " 1,\n",
              " 2,\n",
              " 3,\n",
              " 4,\n",
              " 5,\n",
              " 6,\n",
              " 7,\n",
              " 8,\n",
              " 9,\n",
              " 10,\n",
              " 11,\n",
              " 12,\n",
              " 13,\n",
              " 14,\n",
              " 15,\n",
              " 16,\n",
              " 17,\n",
              " 18,\n",
              " 19,\n",
              " 20,\n",
              " 21,\n",
              " 22,\n",
              " 23]"
            ]
          },
          "metadata": {},
          "execution_count": 143
        }
      ]
    },
    {
      "cell_type": "code",
      "execution_count": 144,
      "metadata": {
        "id": "REY-_YtIuMKU"
      },
      "outputs": [],
      "source": [
        "# Convert the 'label' column from the 'train_df' DataFrame into a NumPy array for training labels\n",
        "y_train = np.array(train_df['label'])\n",
        "\n",
        "# Convert the 'label' column from the 'valid_df' DataFrame into a NumPy array for validation labels\n",
        "y_val = np.array(valid_df['label'])\n",
        "\n",
        "# Remove the 'label' column from 'train_df' since it will only be used for labels, not for input features\n",
        "del train_df['label']\n",
        "\n",
        "# Remove the 'label' column from 'valid_df' for the same reason\n",
        "del valid_df['label']\n",
        "\n",
        "# Convert the remaining training data (without the 'label' column) into a NumPy array of type float32\n",
        "x_train = train_df.values.astype(np.float32)\n",
        "\n",
        "# Convert the remaining validation data (without the 'label' column) into a NumPy array of type float32\n",
        "x_val = valid_df.values.astype(np.float32)"
      ]
    },
    {
      "cell_type": "code",
      "execution_count": 145,
      "metadata": {
        "code_folding": [],
        "id": "ntI7200uuMKV"
      },
      "outputs": [],
      "source": [
        "def split_val_test(x, y, pct=0.5, shuffle=True):\n",
        "    '''\n",
        "    Create a function that will allow you to split the previously loaded validation set\n",
        "    into validation and test sets.\n",
        "    '''\n",
        "    # Check that dimensions are equal\n",
        "    assert len(x) == len(y)\n",
        "\n",
        "    # Shuffle data if required\n",
        "    if shuffle:\n",
        "        idx = np.random.permutation(len(x))\n",
        "        x = x[idx]\n",
        "        y = y[idx]\n",
        "\n",
        "    # Make test/validation partition using the pct parameter\n",
        "    x_val = x[:int(len(x) * pct)]\n",
        "    y_val = y[:int(len(y) * pct)]\n",
        "\n",
        "    x_test = x[int(len(x) * pct):]\n",
        "    y_test = y[int(len(y) * pct):]\n",
        "\n",
        "    return x_val, y_val, x_test, y_test\n",
        "    pass"
      ]
    },
    {
      "cell_type": "code",
      "execution_count": 146,
      "metadata": {
        "id": "C39Ixw83uMKW"
      },
      "outputs": [],
      "source": [
        "# Split the validation set (x_val, y_val) into separate validation and test sets\n",
        "x_val, y_val, x_test, y_test = split_val_test(x_val, y_val)"
      ]
    },
    {
      "cell_type": "code",
      "execution_count": 147,
      "metadata": {
        "colab": {
          "base_uri": "https://localhost:8080/"
        },
        "id": "HwhBRcGFuMKW",
        "outputId": "35d5e691-d5c2-4b26-8b83-d87213299d38"
      },
      "outputs": [
        {
          "output_type": "stream",
          "name": "stdout",
          "text": [
            "24\n"
          ]
        }
      ],
      "source": [
        "# Create a list of lowercase letters from the alphabet, removing 'j' and 'z', then print the length of the modified alphabet\n",
        "alphabet = list(string.ascii_lowercase)  # Generate a list of lowercase letters\n",
        "alphabet.remove('j')                      # Remove 'j' from the list\n",
        "alphabet.remove('z')                      # Remove 'z' from the list\n",
        "print(len(alphabet))                      # Print the length of the modified alphabet"
      ]
    },
    {
      "cell_type": "markdown",
      "metadata": {
        "id": "8N-jU1nguMKX"
      },
      "source": [
        "### Normalise"
      ]
    },
    {
      "cell_type": "code",
      "source": [
        "def normalise(x_mean, x_std, x_data):\n",
        "    \"\"\"\n",
        "    Normalize the input data using the given mean and standard deviation.\n",
        "    \"\"\"\n",
        "    return (x_data - x_mean) / x_std  # Apply normalization formula"
      ],
      "metadata": {
        "id": "BRmYOFM-zJRq"
      },
      "execution_count": 148,
      "outputs": []
    },
    {
      "cell_type": "code",
      "source": [
        "# Calculate the mean of the training data\n",
        "x_mean = x_train.mean()\n",
        "\n",
        "# Calculate the standard deviation of the training data\n",
        "x_std = x_train.std()\n",
        "\n",
        "# Normalize the training data using the calculated mean and standard deviation\n",
        "x_train = normalise(x_mean, x_std, x_train)\n",
        "\n",
        "# Normalize the validation data using the training mean and standard deviation\n",
        "x_val = normalise(x_mean, x_std, x_val)\n",
        "\n",
        "# Normalize the test data using the training mean and standard deviation\n",
        "x_test = normalise(x_mean, x_std, x_test)"
      ],
      "metadata": {
        "id": "qICB1wSSzOJ1"
      },
      "execution_count": 149,
      "outputs": []
    },
    {
      "cell_type": "markdown",
      "metadata": {
        "id": "j-ebyzj9uMKX"
      },
      "source": [
        "### Graficar muestras"
      ]
    },
    {
      "cell_type": "code",
      "source": [
        "def plot_image(image):\n",
        "    \"\"\"\n",
        "    Plot a 28x28 grayscale image.\n",
        "    \"\"\"\n",
        "    plt.figure(figsize=(5, 5))  # Create a new figure with a specified size\n",
        "    plt.imshow(np.reshape(image, (28, 28)), cmap=plt.get_cmap('gray'))  # Reshape the flat image and display it in grayscale\n",
        "    plt.axis('off')  # Hide the axis\n",
        "    plt.show()  # Display the plotted image\n"
      ],
      "metadata": {
        "id": "Yirm80JLzVlf"
      },
      "execution_count": 150,
      "outputs": []
    },
    {
      "cell_type": "code",
      "source": [
        "# Generate a random integer in the y_train domain\n",
        "idx = np.random.randint(len(y_train))\n",
        "\n",
        "# Call plot function but reshaping array to be a 28x28 pixel image\n",
        "plot_image(x_train[idx].reshape(28,28))\n",
        "\n",
        "# Show image label\n",
        "print(f'La letra es: {alphabet[y_train[idx]]}')\n"
      ],
      "metadata": {
        "colab": {
          "base_uri": "https://localhost:8080/",
          "height": 439
        },
        "id": "Eh5XPnjCzb8u",
        "outputId": "ac2417ce-a3dd-4d52-e815-fc29b8dc160c"
      },
      "execution_count": 151,
      "outputs": [
        {
          "output_type": "display_data",
          "data": {
            "text/plain": [
              "<Figure size 500x500 with 1 Axes>"
            ],
            "image/png": "[encoded data removed]"
          },
          "metadata": {}
        },
        {
          "output_type": "stream",
          "name": "stdout",
          "text": [
            "La letra es: q\n"
          ]
        }
      ]
    },
    {
      "cell_type": "markdown",
      "metadata": {
        "id": "oo4GoFA_uMKX"
      },
      "source": [
        "### Ecuaciones para nuestro modelo\n",
        "\n",
        "\n",
        "$$z^1 = W^1 X + b^1$$\n",
        "\n",
        "$$a^1 = ReLU(z^1) $$\n",
        "\n",
        "$$z^2 = W^2 a^1 + b^2$$\n",
        "\n",
        "$$\\hat{y} = \\frac{e^{z^{2_k}}}{\\sum_j{e^{z_j}}}$$\n",
        "\n",
        "\n",
        "$$ \\mathcal{L}(\\hat{y}^{i}, y^{i}) =  - y^{i}  \\ln(\\hat{y}^{i}) = -\\ln(\\hat{y}^i)$$\n",
        "\n",
        "\n",
        "$$ \\mathcal{J}(w, b) =  \\frac{1}{num\\_samples} \\sum_{i=1}^{num\\_samples}-\\ln(\\hat{y}^{i})$$"
      ]
    },
    {
      "cell_type": "markdown",
      "metadata": {
        "id": "uZ02ZX-fuMKY"
      },
      "source": [
        "### Funciones adicionales"
      ]
    },
    {
      "cell_type": "markdown",
      "metadata": {
        "id": "aQeaAn0huMKY"
      },
      "source": [
        "#### Mini batches"
      ]
    },
    {
      "cell_type": "code",
      "execution_count": 152,
      "metadata": {
        "id": "GT-NRU-UuMKY"
      },
      "outputs": [],
      "source": [
        "def create_minibatches(mb_size, x, y, shuffle=True):\n",
        "    \"\"\"Create mini-batches from the x and y datasets.\n",
        "    \"\"\"\n",
        "    assert x.shape[0] == y.shape[0], 'Error: Mismatch in the number of samples'  # Ensure x and y have the same number of samples\n",
        "    total_data = x.shape[0]  # Get the total number of samples\n",
        "\n",
        "    if shuffle:\n",
        "        idxs = np.arange(total_data)  # Create an array of indices\n",
        "        np.random.shuffle(idxs)  # Shuffle the indices\n",
        "        x = x[idxs]  # Shuffle the input data\n",
        "        y = y[idxs]  # Shuffle the labels accordingly\n",
        "\n",
        "    # Generate mini-batches using a generator expression\n",
        "    return ((x[i:i + mb_size], y[i:i + mb_size]) for i in range(0, total_data, mb_size))"
      ]
    },
    {
      "cell_type": "markdown",
      "metadata": {
        "id": "6-rpKI8fuMKY"
      },
      "source": [
        "## Nuestra clase Linear, ReLU y Sequential"
      ]
    },
    {
      "cell_type": "code",
      "source": [
        "class np_tensor(np.ndarray):\n",
        "    \"\"\"\n",
        "    This class allows for the creation of tensor-like objects using NumPy's ndarray,\n",
        "    enabling potential enhancements or custom methods specific to tensor operations.\n",
        "    \"\"\"\n",
        "    pass  # Placeholder for future enhancements or custom methods"
      ],
      "metadata": {
        "id": "MqCAvtGi1u7v"
      },
      "execution_count": 153,
      "outputs": []
    },
    {
      "cell_type": "markdown",
      "metadata": {
        "id": "HHaSceSbuMKZ"
      },
      "source": [
        "###  Clase Linear"
      ]
    },
    {
      "cell_type": "code",
      "source": [
        "class Linear:\n",
        "    def __init__(self, input_size: int, output_size: int) -> None:\n",
        "        \"\"\"Fully Connected Layer\n",
        "        \"\"\"\n",
        "        # Initialize weights with a scaled random normal distribution and create a np_tensor\n",
        "        self.W = (np.random.randn(output_size, input_size) / np.sqrt(input_size / 2)).view(np_tensor)\n",
        "        # Initialize biases as zeros and create a np_tensor\n",
        "        self.b = (np.zeros((output_size, 1))).view(np_tensor)\n",
        "\n",
        "    def __call__(self, X):\n",
        "        \"\"\"Forward pass through the layer.\n",
        "        \"\"\"\n",
        "        return self.W @ X + self.b  # Matrix multiplication and addition of bias\n",
        "\n",
        "    def backward(self, X, Z):\n",
        "        \"\"\"Backward pass for computing gradients.\n",
        "        \"\"\"\n",
        "        X.grad = self.W.T @ Z.grad  # Gradient of the input is the product of weights and gradient from output\n",
        "        self.W.grad = Z.grad @ X.T   # Gradient of the weights is the product of output gradient and input\n",
        "        self.b.grad = np.sum(Z.grad, axis=1, keepdims=True)  # Gradient of the biases is the sum of output gradients"
      ],
      "metadata": {
        "id": "juCs09xY10IY"
      },
      "execution_count": 154,
      "outputs": []
    },
    {
      "cell_type": "markdown",
      "metadata": {
        "id": "wfDd1olNuMKZ"
      },
      "source": [
        "### Clase ReLU"
      ]
    },
    {
      "cell_type": "code",
      "source": [
        "class ReLU:\n",
        "    def __call__(self, Z):\n",
        "        \"\"\"Forward pass through the ReLU activation function.\n",
        "        \"\"\"\n",
        "        return np.maximum(0, Z)  # Apply ReLU activation by returning the maximum of 0 and Z\n",
        "\n",
        "    def backward(self, Z, A):\n",
        "        \"\"\"Backward pass for computing gradients through the ReLU activation.\n",
        "        \"\"\"\n",
        "        Z.grad = A.grad.copy()  # Copy the gradient from the next layer\n",
        "        Z.grad[Z <= 0] = 0  # Set gradients to 0 where the input Z was less than or equal to 0"
      ],
      "metadata": {
        "id": "1mwhzJvS14gV"
      },
      "execution_count": 155,
      "outputs": []
    },
    {
      "cell_type": "code",
      "source": [
        "from typing import Any\n",
        "\n",
        "class Softmax:\n",
        "    def __call__(self, z) -> Any:\n",
        "        \"\"\"Forward pass through the Softmax activation function.\n",
        "        \"\"\"\n",
        "        exp = np.exp(z)  # Compute the exponentials of the input logits\n",
        "        sum = np.sum(exp)  # Compute the sum of the exponentials\n",
        "        return np.divide(exp, sum).copy()  # Normalize by dividing each exponential by the sum to get probabilities\n",
        "\n",
        "    def backward(self, S):\n",
        "        \"\"\"Backward pass for computing gradients through the Softmax activation.\n",
        "        \"\"\"\n",
        "        S_vector = S.reshape(S.shape[0], 1)  # Reshape S to a column vector\n",
        "        S_matrix = np.tile(S_vector, S.shape[0])  # Create a matrix where each row is the S_vector\n",
        "        S.grad = np.diag(S) - (S_matrix * np.transpose(S_matrix))  # Compute the Jacobian of the Softmax function"
      ],
      "metadata": {
        "id": "L2lpZVNG15UZ"
      },
      "execution_count": 156,
      "outputs": []
    },
    {
      "cell_type": "markdown",
      "metadata": {
        "id": "cWOM9c4muMKZ"
      },
      "source": [
        "### Clase Sequential"
      ]
    },
    {
      "cell_type": "code",
      "source": [
        "class Sequential:\n",
        "    def __init__(self, layers=None) -> None:\n",
        "        \"\"\"Creates a Neural Network of stacked layers.\n",
        "        \"\"\"\n",
        "        self.layers = layers  # Store the list of layers in the neural network\n",
        "        self.outputs = {}  # Initialize a dictionary to hold the outputs of each layer\n",
        "\n",
        "    def __call__(self, x):\n",
        "        \"\"\"Forward pass through the network.\n",
        "        \"\"\"\n",
        "        self.outputs['l0'] = x  # Store the input as the output of the first layer\n",
        "        for i, layer in enumerate(self.layers, 1):  # Loop through each layer\n",
        "            x = layer(x)  # Pass input through the current layer\n",
        "            self.outputs['l' + str(i)] = x  # Store the output of the current layer\n",
        "        return x  # Return the final output\n",
        "\n",
        "    def backward(self):\n",
        "        \"\"\"Backward pass through the network to compute gradients.\"\"\"\n",
        "        for i in reversed(range(len(self.layers))):  # Iterate through layers in reverse order\n",
        "            li = self.outputs['l' + str(i)]  # Get output of the current layer\n",
        "            li1 = self.outputs['l' + str(i + 1)]  # Get output of the next layer\n",
        "            self.layers[i].backward(li, li1)  # Call backward method of the current layer\n",
        "\n",
        "    def update(self, learning_rate=1e-3):\n",
        "        \"\"\"Update the weights and biases of the layers using computed gradients.\n",
        "        \"\"\"\n",
        "        for layer in self.layers:  # Loop through each layer\n",
        "            if isinstance(layer, (ReLU, Softmax)): continue  # Skip activation layers\n",
        "            layer.W = layer.W - learning_rate * layer.W.grad  # Update weights\n",
        "            layer.b = layer.b - learning_rate * layer.b.grad  # Update biases\n",
        "\n",
        "    def predict(self, x):\n",
        "        \"\"\"Make predictions based on input data.\n",
        "        \"\"\"\n",
        "        return np.argmax(self.__call__(x))  # Return the index of the class with the highest probability"
      ],
      "metadata": {
        "id": "NNB9mqrf2Bqn"
      },
      "execution_count": 157,
      "outputs": []
    },
    {
      "cell_type": "markdown",
      "metadata": {
        "id": "nA5yiGwUuMKZ"
      },
      "source": [
        "### Cost Function"
      ]
    },
    {
      "cell_type": "code",
      "source": [
        "def softmaxXEntropy(x, y):\n",
        "    \"\"\"Compute the softmax and cross-entropy loss.\n",
        "    \"\"\"\n",
        "    batch_size = x.shape[1]  # Get the size of the batch\n",
        "    exp_scores = np.exp(x)  # Calculate the exponential of the input scores\n",
        "    probs = exp_scores / exp_scores.sum(axis=0)  # Calculate probabilities using softmax\n",
        "    preds = probs.copy()  # Copy probabilities for output\n",
        "\n",
        "    # Reshape y to ensure the correct shape for indexing\n",
        "    y = y.reshape(1, -1)\n",
        "\n",
        "    # Cost calculation: Cross-entropy loss\n",
        "    y_hat = probs[y, np.arange(batch_size)]  # Get the predicted probabilities for the true classes\n",
        "    cost = np.sum(-np.log(y_hat)) / batch_size  # Calculate the average cross-entropy loss\n",
        "\n",
        "    # Gradient calculation for backpropagation\n",
        "    probs[y, np.arange(batch_size)] -= 1  # Subtract 1 from the predicted probabilities for the true classes\n",
        "    x.grad = probs.copy()  # Store the gradient of the input scores\n",
        "\n",
        "    return preds, cost  # Return the predicted probabilities and the computed cost"
      ],
      "metadata": {
        "id": "IZOwJdeM2Hyq"
      },
      "execution_count": 158,
      "outputs": []
    },
    {
      "cell_type": "markdown",
      "metadata": {
        "id": "vXit8YmLuMKZ"
      },
      "source": [
        "### Loop de entrenamiento"
      ]
    },
    {
      "cell_type": "code",
      "source": [
        "def train(model, epochs, mb_size=128, learning_rate=1e-3):\n",
        "    \"\"\"Train the neural network model.\n",
        "    \"\"\"\n",
        "    for epoch in range(epochs):  # Loop over the number of epochs\n",
        "        for i, (x, y) in enumerate(create_minibatches(mb_size, x_train, y_train)):  # Iterate over mini-batches\n",
        "            scores = model(x.T.view(np_tensor))  # Perform a forward pass through the model\n",
        "            _, cost = softmaxXEntropy(scores, y)  # Compute the softmax probabilities and cross-entropy loss\n",
        "            model.backward()  # Perform a backward pass to compute gradients\n",
        "            model.update(learning_rate)  # Update model weights and biases based on gradients\n",
        "\n",
        "        # Print the current cost and accuracy after each epoch\n",
        "        print(f'cost: {cost}, accuracy: {accuracy(x_val, y_val, mb_size)}')"
      ],
      "metadata": {
        "id": "b6EXbpsK2VMo"
      },
      "execution_count": 159,
      "outputs": []
    },
    {
      "cell_type": "markdown",
      "metadata": {
        "id": "jjMYWfcouMKZ"
      },
      "source": [
        "### Create your model and train it"
      ]
    },
    {
      "cell_type": "code",
      "execution_count": 160,
      "metadata": {
        "id": "ViCLSm38uMKa"
      },
      "outputs": [],
      "source": [
        "def accuracy(x, y, mb_size):\n",
        "    \"\"\"Calculate the accuracy of the model predictions.\n",
        "    \"\"\"\n",
        "    correct = 0  # Initialize the count of correct predictions\n",
        "    total = 0    # Initialize the total number of predictions\n",
        "\n",
        "    # Iterate over mini-batches of data\n",
        "    for i, (x, y) in enumerate(create_minibatches(mb_size, x, y)):\n",
        "        pred = model(x.T.view(np_tensor))  # Perform a forward pass through the model to get predictions\n",
        "        correct += np.sum(np.argmax(pred, axis=0) == y.squeeze())  # Count the number of correct predictions\n",
        "        total += pred.shape[1]  # Increment the total count of predictions\n",
        "\n",
        "    return correct / total  # Return the accuracy as a fraction of correct predictions to total predictions"
      ]
    },
    {
      "cell_type": "code",
      "source": [
        "# Determine the number of unique classes in the training labels\n",
        "num_classes = len(np.unique(y_train))\n",
        "\n",
        "# Create a sequential neural network model with the following layers:\n",
        "model = Sequential([\n",
        "    Linear(784, 200),  # First fully connected layer\n",
        "    ReLU(),            # Activation layer\n",
        "    Linear(200, 200),  # Second fully connected layer\n",
        "    ReLU(),            # Activation layer\n",
        "    Linear(200, num_classes)  # Output layer for class predictions\n",
        "])\n",
        "\n",
        "# Set training parameters\n",
        "mb_size = 512  # Set mini-batch size for training\n",
        "learning_rate = 2e-4  # Set learning rate for weight updates\n",
        "epochs = 40  # Set the number of epochs for training\n"
      ],
      "metadata": {
        "id": "hs5Xr2sa2cQC"
      },
      "execution_count": 161,
      "outputs": []
    },
    {
      "cell_type": "code",
      "source": [
        "# Start the training process for the model with the specified number of epochs, mini-batch size, and learning rate.\n",
        "train(model, epochs, mb_size, learning_rate)"
      ],
      "metadata": {
        "colab": {
          "base_uri": "https://localhost:8080/"
        },
        "id": "_9tOw5hO2e99",
        "outputId": "1ce404ba-7fb5-4d73-ba87-0b9a7e8209d0"
      },
      "execution_count": 162,
      "outputs": [
        {
          "output_type": "stream",
          "name": "stdout",
          "text": [
            "cost: 0.6834522787386863, accuracy: 0.6731734523145566\n",
            "cost: 0.2529986618412802, accuracy: 0.7364751812604573\n",
            "cost: 0.11755220510199939, accuracy: 0.7548800892359174\n",
            "cost: 0.05839463218500414, accuracy: 0.7674288901282766\n",
            "cost: 0.04761927978421011, accuracy: 0.7674288901282766\n",
            "cost: 0.0331588569033833, accuracy: 0.7699386503067485\n",
            "cost: 0.02927909006773457, accuracy: 0.7724484104852203\n",
            "cost: 0.022370589390643018, accuracy: 0.7752370329057445\n",
            "cost: 0.015428396520774127, accuracy: 0.7732849972113776\n",
            "cost: 0.015734445775245295, accuracy: 0.7760736196319018\n",
            "cost: 0.013644539202298547, accuracy: 0.7752370329057445\n",
            "cost: 0.012192201039721249, accuracy: 0.7783045175683212\n",
            "cost: 0.010524402361547055, accuracy: 0.779419966536531\n",
            "cost: 0.010335288607777299, accuracy: 0.7777467930842163\n",
            "cost: 0.008167906544777627, accuracy: 0.7780256553262688\n",
            "cost: 0.008152780632528556, accuracy: 0.7783045175683212\n",
            "cost: 0.0073573749750517285, accuracy: 0.7796988287785834\n",
            "cost: 0.006244094337255884, accuracy: 0.7791411042944786\n",
            "cost: 0.005409379448399836, accuracy: 0.7810931399888456\n",
            "cost: 0.005757881233597438, accuracy: 0.7805354155047407\n",
            "cost: 0.005872228443388035, accuracy: 0.781372002230898\n",
            "cost: 0.0052241717571023, accuracy: 0.781372002230898\n",
            "cost: 0.004060894142689767, accuracy: 0.781372002230898\n",
            "cost: 0.0041215634287012125, accuracy: 0.781372002230898\n",
            "cost: 0.0042276541556493285, accuracy: 0.7819297267150028\n",
            "cost: 0.00405390827610708, accuracy: 0.7830451756832125\n",
            "cost: 0.00431667673203795, accuracy: 0.7819297267150028\n",
            "cost: 0.003591127933861911, accuracy: 0.7827663134411601\n",
            "cost: 0.003119917019748235, accuracy: 0.7827663134411601\n",
            "cost: 0.0037061779170533523, accuracy: 0.7824874511991077\n",
            "cost: 0.0030620861539117023, accuracy: 0.7847183491355271\n",
            "cost: 0.0029558002014248843, accuracy: 0.7858337981037368\n",
            "cost: 0.002659866044495936, accuracy: 0.7852760736196319\n",
            "cost: 0.0026958346233421776, accuracy: 0.7849972113775795\n",
            "cost: 0.002839742591033135, accuracy: 0.7844394868934746\n",
            "cost: 0.002638094086428115, accuracy: 0.7838817624093698\n",
            "cost: 0.0023473856996583256, accuracy: 0.7847183491355271\n",
            "cost: 0.00253686316556668, accuracy: 0.7847183491355271\n",
            "cost: 0.0025380623678166367, accuracy: 0.7852760736196319\n",
            "cost: 0.00270440661677122, accuracy: 0.7858337981037368\n"
          ]
        }
      ]
    },
    {
      "cell_type": "code",
      "source": [
        "# Show model accuracy\n",
        "print(f'Accuracy: {accuracy(x_test, y_test, mb_size)}')"
      ],
      "metadata": {
        "colab": {
          "base_uri": "https://localhost:8080/"
        },
        "id": "YFWHGEFM3zaF",
        "outputId": "0ec03d96-e1cd-4993-f06a-72d8a79d7a44"
      },
      "execution_count": 163,
      "outputs": [
        {
          "output_type": "stream",
          "name": "stdout",
          "text": [
            "Accuracy: 0.7947573898494144\n"
          ]
        }
      ]
    },
    {
      "cell_type": "markdown",
      "metadata": {
        "id": "N69I5trPuMKa"
      },
      "source": [
        "### Test your model on Random data from your test set"
      ]
    },
    {
      "cell_type": "code",
      "execution_count": 164,
      "metadata": {
        "colab": {
          "base_uri": "https://localhost:8080/",
          "height": 439
        },
        "id": "YBiPKo0duMKa",
        "outputId": "049dce95-3eac-46f2-93fb-ec21dd019e05"
      },
      "outputs": [
        {
          "output_type": "display_data",
          "data": {
            "text/plain": [
              "<Figure size 500x500 with 1 Axes>"
            ],
            "image/png": "[encoded data removed]"
          },
          "metadata": {}
        },
        {
          "output_type": "stream",
          "name": "stdout",
          "text": [
            "The predicted value is: m and the actual value is: m\n"
          ]
        }
      ],
      "source": [
        "# Select a random index from the test set\n",
        "idx = np.random.randint(len(y_test))\n",
        "\n",
        "# Plot the selected test image, reshaping it to a 28x28 array for display\n",
        "plot_image(x_test[idx].reshape(28, 28))\n",
        "\n",
        "# Use the model to predict the class of the selected test image,\n",
        "# reshaping the input to match the expected input shape for the model\n",
        "pred = model.predict(x_test[idx].reshape(-1, 1))\n",
        "\n",
        "# Print the predicted class and the actual class for the selected test image\n",
        "print(f'The predicted value is: {alphabet[pred]} and the actual value is: {alphabet[y_test[idx]]}')"
      ]
    },
    {
      "cell_type": "markdown",
      "source": [
        "## **Justifying the model:**\n",
        "\n",
        "\n",
        "Working with a classification problem, we based our approach on Fully Connected Deep Neural Networks using low-resolution images (28 x 28 pixels). The process included importing images and handling them through mini-batches, applicable not only in computer vision but also in other Machine Learning and Deep Learning exercises. To achieve results closer to reality, we applied the linear class, ReLU function, sequential class, and cost function.\n",
        "\n",
        "**Cost Function:**\n",
        "To optimize the parameters for obtaining the model, we have used the cost function to find the error between the actual value and the estimated value.\n",
        "\n",
        "**ReLU Function:**\n",
        "The ReLU function was useful for obtaining our model because it helps reduce the problem of gradient saturation when the values of the linear combination of inputs are greater than 0, allowing for effective backpropagation even when the values of the linear combination of inputs are greater than 0.\n",
        "\n",
        "**Linear Calculation:**\n",
        "The simple \"linear class\" function allows for the calculation of weights and biases for linearly separable problems. Although it is comparable to the perceptron, it demonstrates matrix operations step by step within the Numpy framework.\n",
        "\n",
        "###**Justification for Hyperparameters:**\n",
        "**Mini-Batch Size (mb_size = 512):**\n",
        "Balances efficiency and stable gradient estimation. It provides sufficient data to smooth out noise while being manageable in terms of memory usage.\n",
        "\n",
        "**Learning Rate (learning_rate = 2e-4):**\n",
        "A smaller learning rate promotes gradual weight updates, helping prevent overshooting and allowing the model to navigate the loss landscape more effectively.\n",
        "\n",
        "**Number of Epochs (epochs = 40):**\n",
        "Provides ample training time to learn from the data while monitoring for overfitting. This number allows for sufficient weight adjustment without excessive training.\n",
        "\n",
        "##**Conclusion:**\n",
        "\n",
        "The exercises involved building a neural network model using a sequential architecture with fully connected layers and ReLU activation functions. Key steps included data preprocessing, implementing a mini-batch training approach, and optimizing the model using the softmax cross-entropy loss function. Hyperparameters, such as mini-batch size, learning rate, and the number of epochs, were carefully chosen to balance training efficiency and stability. The model demonstrated its ability to learn and predict effectively through iterative training and evaluation on validation data.\n",
        "\n"
      ],
      "metadata": {
        "id": "WO5UXeTVVvJF"
      }
    }
  ],
  "metadata": {
    "kernelspec": {
      "display_name": "Python 3 (ipykernel)",
      "language": "python",
      "name": "python3"
    },
    "language_info": {
      "codemirror_mode": {
        "name": "ipython",
        "version": 3
      },
      "file_extension": ".py",
      "mimetype": "text/x-python",
      "name": "python",
      "nbconvert_exporter": "python",
      "pygments_lexer": "ipython3",
      "version": "3.9.0"
    },
    "toc": {
      "base_numbering": 1,
      "nav_menu": {},
      "number_sections": true,
      "sideBar": true,
      "skip_h1_title": false,
      "title_cell": "Table of Contents",
      "title_sidebar": "Contents",
      "toc_cell": false,
      "toc_position": {},
      "toc_section_display": true,
      "toc_window_display": false
    },
    "varInspector": {
      "cols": {
        "lenName": 16,
        "lenType": 16,
        "lenVar": 40
      },
      "kernels_config": {
        "python": {
          "delete_cmd_postfix": "",
          "delete_cmd_prefix": "del ",
          "library": "var_list.py",
          "varRefreshCmd": "print(var_dic_list())"
        },
        "r": {
          "delete_cmd_postfix": ") ",
          "delete_cmd_prefix": "rm(",
          "library": "var_list.r",
          "varRefreshCmd": "cat(var_dic_list()) "
        }
      },
      "types_to_exclude": [
        "module",
        "function",
        "builtin_function_or_method",
        "instance",
        "_Feature"
      ],
      "window_display": false
    },
    "colab": {
      "provenance": []
    }
  },
  "nbformat": 4,
  "nbformat_minor": 0
}